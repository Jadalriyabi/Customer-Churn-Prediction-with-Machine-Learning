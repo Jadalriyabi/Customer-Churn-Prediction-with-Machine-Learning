{
  "nbformat": 4,
  "nbformat_minor": 0,
  "metadata": {
    "colab": {
      "provenance": []
    },
    "kernelspec": {
      "name": "python3",
      "display_name": "Python 3"
    },
    "language_info": {
      "name": "python"
    }
  },
  "cells": [
    {
      "cell_type": "code",
      "source": [
        "!pip install category_encoders\n"
      ],
      "metadata": {
        "colab": {
          "base_uri": "https://localhost:8080/"
        },
        "id": "qBlNQF8gIQKb",
        "outputId": "ff7bb5b0-b05c-410d-f5c7-637538d01935"
      },
      "execution_count": 1,
      "outputs": [
        {
          "output_type": "stream",
          "name": "stdout",
          "text": [
            "Requirement already satisfied: category_encoders in /usr/local/lib/python3.10/dist-packages (2.6.4)\n",
            "Requirement already satisfied: numpy>=1.14.0 in /usr/local/lib/python3.10/dist-packages (from category_encoders) (1.26.4)\n",
            "Requirement already satisfied: scikit-learn>=0.20.0 in /usr/local/lib/python3.10/dist-packages (from category_encoders) (1.5.2)\n",
            "Requirement already satisfied: scipy>=1.0.0 in /usr/local/lib/python3.10/dist-packages (from category_encoders) (1.13.1)\n",
            "Requirement already satisfied: statsmodels>=0.9.0 in /usr/local/lib/python3.10/dist-packages (from category_encoders) (0.14.4)\n",
            "Requirement already satisfied: pandas>=1.0.5 in /usr/local/lib/python3.10/dist-packages (from category_encoders) (2.2.2)\n",
            "Requirement already satisfied: patsy>=0.5.1 in /usr/local/lib/python3.10/dist-packages (from category_encoders) (0.5.6)\n",
            "Requirement already satisfied: python-dateutil>=2.8.2 in /usr/local/lib/python3.10/dist-packages (from pandas>=1.0.5->category_encoders) (2.8.2)\n",
            "Requirement already satisfied: pytz>=2020.1 in /usr/local/lib/python3.10/dist-packages (from pandas>=1.0.5->category_encoders) (2024.2)\n",
            "Requirement already satisfied: tzdata>=2022.7 in /usr/local/lib/python3.10/dist-packages (from pandas>=1.0.5->category_encoders) (2024.2)\n",
            "Requirement already satisfied: six in /usr/local/lib/python3.10/dist-packages (from patsy>=0.5.1->category_encoders) (1.16.0)\n",
            "Requirement already satisfied: joblib>=1.2.0 in /usr/local/lib/python3.10/dist-packages (from scikit-learn>=0.20.0->category_encoders) (1.4.2)\n",
            "Requirement already satisfied: threadpoolctl>=3.1.0 in /usr/local/lib/python3.10/dist-packages (from scikit-learn>=0.20.0->category_encoders) (3.5.0)\n",
            "Requirement already satisfied: packaging>=21.3 in /usr/local/lib/python3.10/dist-packages (from statsmodels>=0.9.0->category_encoders) (24.1)\n"
          ]
        }
      ]
    },
    {
      "cell_type": "code",
      "execution_count": null,
      "metadata": {
        "id": "Ytui-IMKWsxx"
      },
      "outputs": [],
      "source": [
        "# Import necessary libraries\n",
        "from sklearn.model_selection import train_test_split\n",
        "from sklearn.preprocessing import StandardScaler\n",
        "from sklearn.impute import SimpleImputer\n",
        "import category_encoders as ce\n",
        "import pandas as pd # Import pandas"
      ]
    },
    {
      "cell_type": "code",
      "source": [
        "import matplotlib.pylab as plt\n",
        "import seaborn as sns"
      ],
      "metadata": {
        "id": "YoHi4SIsW1h5"
      },
      "execution_count": null,
      "outputs": []
    },
    {
      "cell_type": "code",
      "source": [
        "df = pd.read_csv(\"churn.csv\")"
      ],
      "metadata": {
        "id": "jytbi9ULW9cy"
      },
      "execution_count": null,
      "outputs": []
    },
    {
      "cell_type": "code",
      "source": [
        "df"
      ],
      "metadata": {
        "id": "bfMSH6axXR9t"
      },
      "execution_count": null,
      "outputs": []
    },
    {
      "cell_type": "code",
      "source": [
        "df.describe()"
      ],
      "metadata": {
        "id": "cB_9_c9KXSoL"
      },
      "execution_count": null,
      "outputs": []
    },
    {
      "cell_type": "code",
      "source": [
        "sns.set_style(style='whitegrid')"
      ],
      "metadata": {
        "id": "y2ERemYdXWoa"
      },
      "execution_count": null,
      "outputs": []
    },
    {
      "cell_type": "code",
      "source": [
        "plt.figure(figsize=(12,5))\n"
      ],
      "metadata": {
        "id": "MO37gmv8X2P3"
      },
      "execution_count": null,
      "outputs": []
    },
    {
      "cell_type": "code",
      "source": [
        "sns.countplot(x='Exited', data=df)\n",
        "plt.title(\"Distribution of Churn\")"
      ],
      "metadata": {
        "id": "WL_OY3OOYt8p"
      },
      "execution_count": null,
      "outputs": []
    },
    {
      "cell_type": "code",
      "source": [
        "sns.histplot(x='Age', data=df, kde=True)\n",
        "plt.xlabel(\"Age\")\n",
        "plt.ylabel(\"Frequency\")\n",
        "plt.title(\"Age Distribution\")\n",
        "#"
      ],
      "metadata": {
        "id": "ZUPfgYUCYxjt"
      },
      "execution_count": null,
      "outputs": []
    },
    {
      "cell_type": "code",
      "source": [
        "sns.scatterplot(x='CreditScore', y='Age', data=df, hue=\"Exited\")\n",
        "plt.xlabel(\"CreditScore\")\n",
        "plt.ylabel(\"Age\")\n",
        "plt.title(\"CreditScore vs Age\")\n",
        "#"
      ],
      "metadata": {
        "id": "5Y67v-oTZEV0"
      },
      "execution_count": null,
      "outputs": []
    },
    {
      "cell_type": "code",
      "source": [
        "sns.boxplot(x='Exited', y ='Balance', data = df)\n",
        "plt.xlabel(\"Exited\")\n",
        "plt.ylabel(\"Balance\")\n",
        "plt.title(\"Balance Distribution by Churn\")\n",
        "#"
      ],
      "metadata": {
        "id": "WuHB3p3SaFfO"
      },
      "execution_count": null,
      "outputs": []
    },
    {
      "cell_type": "code",
      "source": [
        "sns.boxplot(x='Exited', y ='CreditScore', data = df)\n",
        "plt.xlabel(\"Exited\")\n",
        "plt.ylabel(\"Credit Score\")\n",
        "plt.title(\"Credit Score Distribution by Churn\")\n",
        "#"
      ],
      "metadata": {
        "id": "WMeG2rDdaVs9"
      },
      "execution_count": null,
      "outputs": []
    },
    {
      "cell_type": "code",
      "source": [
        "features = df.drop('Exited', axis=1)#everything except exited column"
      ],
      "metadata": {
        "id": "LT3H9kv1bjoT"
      },
      "execution_count": null,
      "outputs": []
    },
    {
      "cell_type": "code",
      "source": [
        "features"
      ],
      "metadata": {
        "id": "Me3fg5nibp9J"
      },
      "execution_count": null,
      "outputs": []
    },
    {
      "cell_type": "code",
      "source": [
        "target = df['Exited']"
      ],
      "metadata": {
        "id": "hYo1RW0qbvQ4"
      },
      "execution_count": null,
      "outputs": []
    },
    {
      "cell_type": "code",
      "source": [
        "target #1 means churned, 0 means it didnt churn"
      ],
      "metadata": {
        "id": "EPRPNZZsb8Px"
      },
      "execution_count": null,
      "outputs": []
    },
    {
      "cell_type": "markdown",
      "source": [
        "## The Ideal Training Dataset Split for Machine Learning Projects\n",
        "\n",
        "When embarking on a machine learning project, selecting and partitioning your dataset is crucial for building a robust and accurate model. While flexibility exists for tailoring the split to specific needs, research indicates that a particular division often yields the most efficient outcomes.\n",
        "\n",
        "\n",
        "This widely recommended approach involves dividing the dataset into three distinct subsets:\n",
        "\n",
        "\n",
        "* **Training Set:** This portion comprises the majority of your data (typically around 70-80%) and serves as the primary learning material for your machine learning model. The model iteratively adjusts its parameters using this data to identify patterns and relationships.\n",
        "\n",
        "* **Validation Set:**  Accounting for about 10-15% of the data, the validation set acts as an independent measure of the model's performance during training. It aids in tuning the model's hyperparameters and preventing overfitting to the training set.\n",
        "\n",
        "* **Test Set:** This final subset, representing the remaining 10-15% of the data, is reserved for evaluating the model's final performance and generalization ability on unseen data. It simulates how the model would perform in real-world scenarios.\n",
        "\n",
        "\n",
        "While variations may exist depending on the specific dataset and project, adopting this balanced split generally provides a sound foundation for developing effective machine learning models. It ensures the model is adequately trained, avoids overfitting, and delivers reliable performance on new data."
      ],
      "metadata": {
        "id": "DZ0fdVvKcY3j"
      }
    },
    {
      "cell_type": "markdown",
      "source": [
        "![image.png](data:image/png;base64,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)"
      ],
      "metadata": {
        "id": "hzWXEdJicOEF"
      }
    },
    {
      "cell_type": "code",
      "source": [
        "from sklearn.model_selection import train_test_split\n",
        "from sklearn.preprocessing import StandardScaler\n",
        "\n",
        "features = df.drop([\"RowNumber\", \"CustomerId\", \"Surname\", \"Exited\"], axis=1)\n",
        "target = df[\"Exited\"]\n",
        "features = pd.get_dummies(features, columns=[\"Geography\", \"Gender\"])\n",
        "\n",
        "X_train, X_test, y_train, y_test = train_test_split(features, target, test_size=0.2, random_state=42)\n",
        "\n",
        "scaler = StandardScaler()\n",
        "X_train = scaler.fit_transform(X_train)\n",
        "X_test = scaler.fit_transform(X_test)"
      ],
      "metadata": {
        "id": "QBl6m7tkb88L"
      },
      "execution_count": null,
      "outputs": []
    },
    {
      "cell_type": "code",
      "source": [
        "X_train[0]"
      ],
      "metadata": {
        "id": "o6TG1Rd35DUB"
      },
      "execution_count": null,
      "outputs": []
    },
    {
      "cell_type": "code",
      "source": [
        "X_train\n"
      ],
      "metadata": {
        "id": "3_cjVYQ28BPJ"
      },
      "execution_count": null,
      "outputs": []
    },
    {
      "cell_type": "code",
      "source": [
        "from sklearn.linear_model import LogisticRegression\n",
        "from sklearn.metrics import accuracy_score, classification_report, confusion_matrix\n",
        "import pickle\n",
        "\n",
        "from sklearn.ensemble import RandomForestClassifier\n",
        "from sklearn.tree import DecisionTreeClassifier\n",
        "from sklearn.svm import SVC\n",
        "from sklearn.neighbors import KNeighborsClassifier\n",
        "from sklearn.naive_bayes import GaussianNB"
      ],
      "metadata": {
        "id": "t8ZWj7CH8Fdx"
      },
      "execution_count": null,
      "outputs": []
    },
    {
      "cell_type": "code",
      "source": [
        "lr_model =LogisticRegression(random_state=42)"
      ],
      "metadata": {
        "id": "vZlpJDqZ8Wzm"
      },
      "execution_count": null,
      "outputs": []
    },
    {
      "cell_type": "code",
      "source": [
        "lr_model.fit(X_train, y_train)"
      ],
      "metadata": {
        "id": "XDkrRKVS8bwg"
      },
      "execution_count": null,
      "outputs": []
    },
    {
      "cell_type": "code",
      "source": [
        "lr_predictions = lr_model.predict(X_test)"
      ],
      "metadata": {
        "id": "sodCNeJr8lQl"
      },
      "execution_count": null,
      "outputs": []
    },
    {
      "cell_type": "code",
      "source": [
        "lr_predictions"
      ],
      "metadata": {
        "id": "YX-H6xlg9ILS"
      },
      "execution_count": null,
      "outputs": []
    },
    {
      "cell_type": "code",
      "source": [
        "lr_accuracy = accuracy_score(y_test, lr_predictions)\n",
        "print(f\"Logistic Regression Accuracy: {lr_accuracy * 100:.2f}%\")"
      ],
      "metadata": {
        "id": "OwedyYzL-nUP"
      },
      "execution_count": null,
      "outputs": []
    },
    {
      "cell_type": "code",
      "source": [
        "def evalute_and_save_model(model, X_train, X_test, y_train, y_test, file_name):\n",
        "  model.fit(X_train, y_train)\n",
        "  y_pred = model.predict(X_test)\n",
        "  accuracy = accuracy_score(y_test, y_pred)\n",
        "  print(f\"{model.__class__.__name__} Accuracy: {accuracy:.4f}%\")\n",
        "  print(f\"\\nClassification Report:\\n{classification_report(y_test, y_pred)}\")\n",
        "  print(f\"\\nConfusion Matrix:\\n{confusion_matrix(y_test, y_pred)}\")\n",
        "  print(f\"\\n{'-' * 50}\\n\")\n",
        "\n",
        "  with open(file_name, 'wb') as file:\n",
        "    pickle.dump(model, file)\n",
        "\n",
        "  print(f\"Model saved as {file_name}\")"
      ],
      "metadata": {
        "id": "MnyccVZ---hY"
      },
      "execution_count": null,
      "outputs": []
    },
    {
      "cell_type": "code",
      "source": [
        "!pip install xgboost\n",
        "import xgboost as xgb # Import the xgboost library and alias it as 'xgb'"
      ],
      "metadata": {
        "id": "AcpmvG-EAzeV"
      },
      "execution_count": null,
      "outputs": []
    },
    {
      "cell_type": "code",
      "source": [
        "xgb_model = xgb.XGBClassifier(random_state=42)\n",
        "evalute_and_save_model(xgb_model, X_train, X_test, y_train, y_test, \"xgb_model.pkl\")\n",
        "\n",
        "dt_model = DecisionTreeClassifier(random_state=42)\n",
        "evalute_and_save_model(dt_model, X_train, X_test, y_train, y_test, \"dt_model.pkl\")\n",
        "\n",
        "rf_model = RandomForestClassifier(random_state=42)\n",
        "evalute_and_save_model(rf_model, X_train, X_test, y_train, y_test, \"rf_model.pkl\")\n",
        "\n",
        "nb_model = GaussianNB()\n",
        "evalute_and_save_model(nb_model, X_train, X_test, y_train, y_test, \"nb_model.pkl\")\n",
        "\n",
        "knn_model = KNeighborsClassifier()\n",
        "evalute_and_save_model(knn_model, X_train, X_test, y_train, y_test, \"knn_model.pkl\")\n",
        "\n",
        "svm_model = SVC(random_state=42)\n",
        "evalute_and_save_model(svm_model, X_train, X_test, y_train, y_test, \"svm_model.pkl\")"
      ],
      "metadata": {
        "id": "FAZtf9wJAktu"
      },
      "execution_count": null,
      "outputs": []
    },
    {
      "cell_type": "code",
      "source": [
        "feature_importance = xgb_model.feature_importances_\n",
        "feature_names = features.columns"
      ],
      "metadata": {
        "id": "R9rIoOrFAvjU"
      },
      "execution_count": null,
      "outputs": []
    },
    {
      "cell_type": "code",
      "source": [
        "feature_importance"
      ],
      "metadata": {
        "id": "VgUWYsNNIw9e"
      },
      "execution_count": null,
      "outputs": []
    },
    {
      "cell_type": "code",
      "source": [
        "feature_names"
      ],
      "metadata": {
        "id": "Rp6x8eohIyig"
      },
      "execution_count": null,
      "outputs": []
    },
    {
      "cell_type": "code",
      "source": [
        "feature_importance_df = pd.DataFrame({'Feature': feature_names, 'Importance': feature_importance})"
      ],
      "metadata": {
        "id": "qAwft1E3I2O7"
      },
      "execution_count": null,
      "outputs": []
    },
    {
      "cell_type": "code",
      "source": [
        "feature_importance_df"
      ],
      "metadata": {
        "id": "nV6F0DObI8Bz"
      },
      "execution_count": null,
      "outputs": []
    },
    {
      "cell_type": "code",
      "source": [
        "feature_importance_df = feature_importance_df.sort_values(by='Importance', ascending=False)"
      ],
      "metadata": {
        "id": "8Mi6gK3RI9EN"
      },
      "execution_count": null,
      "outputs": []
    },
    {
      "cell_type": "code",
      "source": [
        "feature_importance_df"
      ],
      "metadata": {
        "id": "aNekuIOxJDoo"
      },
      "execution_count": null,
      "outputs": []
    },
    {
      "cell_type": "code",
      "source": [
        "plt.figure(figsize=(10, 6))\n",
        "plt.bar(feature_importance_df['Feature'], feature_importance_df['Importance'])\n",
        "plt.xticks(rotation=90)\n",
        "plt.title('Feature Importance')\n",
        "plt.xlabel('Features')\n",
        "plt.ylabel('Importance')\n",
        "plt.tight_layout()\n",
        "plt.show()"
      ],
      "metadata": {
        "id": "URMGnl1oJEOB"
      },
      "execution_count": null,
      "outputs": []
    },
    {
      "cell_type": "code",
      "source": [
        "features"
      ],
      "metadata": {
        "id": "VOzRN7zHK2S4"
      },
      "execution_count": null,
      "outputs": []
    },
    {
      "cell_type": "code",
      "source": [
        "features['CLV'] = df['Balance'] * df['EstimatedSalary'] / 100000"
      ],
      "metadata": {
        "id": "0vdZM4jyPJ3T"
      },
      "execution_count": null,
      "outputs": []
    },
    {
      "cell_type": "code",
      "source": [
        "features"
      ],
      "metadata": {
        "id": "ChYzONy4PYO3"
      },
      "execution_count": null,
      "outputs": []
    },
    {
      "cell_type": "code",
      "source": [
        "features['AgeGroup'] = pd.cut(df['Age'], bins=[0, 30, 45, 60, 100], labels=['Young', \"MiddleAge\", \"Senior\", \"Elderly\"])"
      ],
      "metadata": {
        "id": "CRi5zwMLPai_"
      },
      "execution_count": null,
      "outputs": []
    },
    {
      "cell_type": "code",
      "source": [
        "features"
      ],
      "metadata": {
        "id": "Y4Y9CxZgQUfe"
      },
      "execution_count": null,
      "outputs": []
    },
    {
      "cell_type": "code",
      "source": [
        "features['TenureAgeRatio'] = df['Tenure'] / df['Age']"
      ],
      "metadata": {
        "id": "23pmkebbQ-bC"
      },
      "execution_count": null,
      "outputs": []
    },
    {
      "cell_type": "code",
      "source": [
        "features"
      ],
      "metadata": {
        "id": "L56AW-6CRWYv"
      },
      "execution_count": null,
      "outputs": []
    },
    {
      "cell_type": "code",
      "source": [
        "features = pd.get_dummies(features, drop_first=True)"
      ],
      "metadata": {
        "id": "MPqd-vh6RW9K"
      },
      "execution_count": null,
      "outputs": []
    },
    {
      "cell_type": "code",
      "source": [
        "features"
      ],
      "metadata": {
        "id": "Gg2Mvyz6N1tK"
      },
      "execution_count": null,
      "outputs": []
    },
    {
      "cell_type": "code",
      "source": [
        "X_train, X_test, y_train, y_test = train_test_split(features, target, test_size=0.2, random_state=42)"
      ],
      "metadata": {
        "id": "Ng6bLDdsN6Ah"
      },
      "execution_count": null,
      "outputs": []
    },
    {
      "cell_type": "code",
      "source": [
        "X_train"
      ],
      "metadata": {
        "id": "5vjViSDCN53M"
      },
      "execution_count": null,
      "outputs": []
    },
    {
      "cell_type": "code",
      "source": [
        "xgboost_model = xgb.XGBClassifier(random_state=42)\n",
        "\n",
        "evalute_and_save_model(xgboost_model, X_train, X_test, y_train, y_test, \"xgboost-featureEngineered.pkl\")"
      ],
      "metadata": {
        "id": "LLTowJkkN_Oj"
      },
      "execution_count": null,
      "outputs": []
    },
    {
      "cell_type": "code",
      "source": [
        "from imblearn.over_sampling import SMOTE"
      ],
      "metadata": {
        "id": "koBrER5hOLk0"
      },
      "execution_count": null,
      "outputs": []
    },
    {
      "cell_type": "code",
      "source": [
        "smote = SMOTE(random_state=42)"
      ],
      "metadata": {
        "id": "SHWq1XseOc2c"
      },
      "execution_count": null,
      "outputs": []
    },
    {
      "cell_type": "code",
      "source": [
        "X_resampled, y_resampled = smote.fit_resample(X_train, y_train)"
      ],
      "metadata": {
        "id": "xhRoo-wkOeyE"
      },
      "execution_count": null,
      "outputs": []
    },
    {
      "cell_type": "code",
      "source": [
        "evalute_and_save_model(xgboost_model, X_resampled, X_test, y_resampled, y_test, \"xgboost-featureEngineered-smote.pkl\")"
      ],
      "metadata": {
        "id": "caNx9gGmOpnP"
      },
      "execution_count": null,
      "outputs": []
    },
    {
      "cell_type": "code",
      "source": [
        "from sklearn.ensemble import VotingClassifier"
      ],
      "metadata": {
        "id": "2h2OwXrgOk6o"
      },
      "execution_count": null,
      "outputs": []
    },
    {
      "cell_type": "code",
      "source": [
        "voting_clf = VotingClassifier(\n",
        "    estimators=[('xgboost', xgb.XGBClassifier(random_state=42)), ('random_forest', RandomForestClassifier(random_state=42)), ('svm', SVC(random_state =42, probability = True))],\n",
        "    voting='soft'\n",
        ")"
      ],
      "metadata": {
        "id": "OezuuHLxO3ks"
      },
      "execution_count": null,
      "outputs": []
    },
    {
      "cell_type": "code",
      "source": [
        "evalute_and_save_model(voting_clf, X_resampled, X_test, y_resampled, y_test, \"voting_clf.pkl\")"
      ],
      "metadata": {
        "id": "9vStjD2_PkAM"
      },
      "execution_count": null,
      "outputs": []
    },
    {
      "cell_type": "code",
      "source": [],
      "metadata": {
        "id": "tQXdHenMQ19b"
      },
      "execution_count": null,
      "outputs": []
    }
  ]
}